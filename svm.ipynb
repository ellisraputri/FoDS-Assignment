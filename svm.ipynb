{
 "cells": [
  {
   "cell_type": "code",
   "execution_count": 3,
   "metadata": {},
   "outputs": [
    {
     "name": "stdout",
     "output_type": "stream",
     "text": [
      "x_train shape: (105, 4)\n",
      "x_test shape: (45, 4)\n",
      "y_train shape: (105,)\n",
      "y_test shape: (45,)\n"
     ]
    }
   ],
   "source": [
    "from sklearn import datasets\n",
    "from sklearn.model_selection import train_test_split\n",
    "from sklearn import svm, metrics\n",
    "\n",
    "iris = datasets.load_iris()\n",
    "\n",
    "x_train, x_test, y_train, y_test = train_test_split(\n",
    "    iris.data, iris.target, test_size=0.3, random_state=1\n",
    ")\n",
    "\n",
    "print(f\"x_train shape: {x_train.shape}\")\n",
    "print(f\"x_test shape: {x_test.shape}\")\n",
    "print(f\"y_train shape: {y_train.shape}\")\n",
    "print(f\"y_test shape: {y_test.shape}\")\n"
   ]
  },
  {
   "cell_type": "code",
   "execution_count": 4,
   "metadata": {},
   "outputs": [
    {
     "name": "stdout",
     "output_type": "stream",
     "text": [
      "Accuracy: 1.0\n"
     ]
    }
   ],
   "source": [
    "cl = svm.SVC(kernel='linear')\n",
    "cl.fit(x_train, y_train)\n",
    "y_pred = cl.predict(x_test)\n",
    "print(\"Accuracy:\",metrics.accuracy_score(y_test, y_pred))"
   ]
  },
  {
   "cell_type": "code",
   "execution_count": 18,
   "metadata": {},
   "outputs": [
    {
     "name": "stdout",
     "output_type": "stream",
     "text": [
      "x_train shape: (124, 13)\n",
      "x_test shape: (54, 13)\n",
      "y_train shape: (124,)\n",
      "y_test shape: (54,)\n"
     ]
    }
   ],
   "source": [
    "wine = datasets.load_wine()\n",
    "\n",
    "x_train2, x_test2, y_train2, y_test2 = train_test_split(\n",
    "    wine.data, wine.target, test_size=0.3, random_state=1\n",
    ")\n",
    "\n",
    "print(f\"x_train shape: {x_train2.shape}\")\n",
    "print(f\"x_test shape: {x_test2.shape}\")\n",
    "print(f\"y_train shape: {y_train2.shape}\")\n",
    "print(f\"y_test shape: {y_test2.shape}\")"
   ]
  },
  {
   "cell_type": "code",
   "execution_count": 29,
   "metadata": {},
   "outputs": [
    {
     "name": "stdout",
     "output_type": "stream",
     "text": [
      "Accuracy: 0.9629629629629629\n"
     ]
    }
   ],
   "source": [
    "cl2 = svm.SVC(kernel='linear')\n",
    "cl2.fit(x_train2, y_train2)\n",
    "y_pred2 = cl2.predict(x_test2)\n",
    "\n",
    "print(\"Accuracy:\",metrics.accuracy_score(y_test2, y_pred2))"
   ]
  }
 ],
 "metadata": {
  "kernelspec": {
   "display_name": "Python 3",
   "language": "python",
   "name": "python3"
  },
  "language_info": {
   "codemirror_mode": {
    "name": "ipython",
    "version": 3
   },
   "file_extension": ".py",
   "mimetype": "text/x-python",
   "name": "python",
   "nbconvert_exporter": "python",
   "pygments_lexer": "ipython3",
   "version": "3.11.5"
  }
 },
 "nbformat": 4,
 "nbformat_minor": 2
}
